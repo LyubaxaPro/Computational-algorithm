{
 "cells": [
  {
   "cell_type": "markdown",
   "metadata": {},
   "source": [
    "#  Многомерная интерполяция на регулярной сетке"
   ]
  },
  {
   "cell_type": "markdown",
   "metadata": {},
   "source": [
    "# Задание\n",
    "Задана таблица значений функции вида x, y, z(x, y). С помощью интерполяции, используя\n",
    "метод полинома Ньютона, найти приближённое значение функции от введённых 𝑋  Y.\n",
    "\n",
    "Ввод: значение 𝑋, Y и степени полиномов n_x, n_y\n",
    "\n",
    "Вывод: значение функции от 𝑋 Y\n",
    "    "
   ]
  },
  {
   "cell_type": "markdown",
   "metadata": {},
   "source": [
    "# Описание алгоритма построения интерполяционного полинома Ньютона\n",
    "Для двух точек: $$y(x_i, x_j) ={ y_i - y_j \\over x_i - x_j}$$"
   ]
  },
  {
   "cell_type": "markdown",
   "metadata": {},
   "source": [
    "Для трёх точек: $$y(x_i, x_j, x_k) ={ y(x_i, x_j) - y(x_j, x_k) \\over x_i - x_k}$$"
   ]
  },
  {
   "cell_type": "markdown",
   "metadata": {},
   "source": [
    "Для n точек: $$y(x_i, x_j, ..., x_n) ={ y(x_i, x_j, ..., x_{n - 1}) - y(x_j, ..., x_n) \\over x_i - x_n}$$"
   ]
  },
  {
   "cell_type": "markdown",
   "metadata": {},
   "source": [
    "Отсюда искомый полином будет равен:\n",
    "$$P_n(x) = y_0 + (x-x_0)y(x_0, x_1) + (x - x_0)(x - x_1)y(x_0, x_1, x_2) + ... \\\\ + (x - x_0)(x - x_1)...(x - x_{n - 1})y(x_0, x_1, ..., x_n)$$\n",
    "$$P_n(x) = y_0 + \\sum\\limits_{k = 0}^n (x - x_0) ...(x - x_{n - 1})y(x_0,x_1,...,x_k)$$"
   ]
  },
  {
   "cell_type": "markdown",
   "metadata": {},
   "source": [
    "# Описание алгоритма  интерполяции для двух аргументов\n",
    "Найти z(x, y)\n",
    "\n",
    "1) находим z(x, $y_k$) для всех k, где 0 $\\leq$ k  $\\leq$ n_y. Результат каждого вычисления поочередно сохраняем как $t_k$\n",
    "\n",
    "2) Находим z(y, t). Это и есть искомый результат.\n",
    "\n",
    "При таком алгоритме требуется запустить алгоритм интерполяционного алгоритма Ньютона n_y + 1 раз."
   ]
  },
  {
   "cell_type": "code",
   "execution_count": 8,
   "metadata": {},
   "outputs": [],
   "source": [
    "import numpy as np\n",
    "from heapq import nsmallest"
   ]
  },
  {
   "cell_type": "code",
   "execution_count": 9,
   "metadata": {},
   "outputs": [],
   "source": [
    "LEN_ERROR = 2"
   ]
  },
  {
   "cell_type": "code",
   "execution_count": 10,
   "metadata": {},
   "outputs": [],
   "source": [
    "#функция для отладки\n",
    "def func(x, y):\n",
    "    return x**2 + y**2"
   ]
  },
  {
   "cell_type": "code",
   "execution_count": 11,
   "metadata": {},
   "outputs": [],
   "source": [
    "# функция для отладки\n",
    "def make_file(start_x, stop_x, step_x, start_y, stop_y, step_y):\n",
    "    f = open('lab2.txt', 'w')\n",
    "\n",
    "    num_x = abs((stop_x - start_x) / step_x)\n",
    "    num_y = abs((stop_y - start_y) / step_y)\n",
    "\n",
    "    matrix = np.zeros((int(num_x + 2), int(num_y + 2)))\n",
    "    x = start_x\n",
    "    y = start_y\n",
    "    for i in range(int(num_x) + 1):\n",
    "        matrix[i + 1][0] = x\n",
    "        x += step_x\n",
    "\n",
    "    for i in range(int(num_y) + 1):\n",
    "        matrix[0][i + 1] = y\n",
    "        y += step_y\n",
    "\n",
    "    for i in range(1, len(matrix)):\n",
    "        for j in range(1, len(matrix[0])):\n",
    "            matrix[i][j] = func(matrix[i][0], matrix[0][j])\n",
    "    for i in range(len(matrix)):\n",
    "        s = \" \".join(str(x) for x in matrix[i])\n",
    "        f.write(s + \"\\n\")\n",
    "\n",
    "    f.close()"
   ]
  },
  {
   "cell_type": "code",
   "execution_count": 12,
   "metadata": {},
   "outputs": [],
   "source": [
    "make_file(0, 10, 0.5, 0, 10, 0.5)"
   ]
  },
  {
   "cell_type": "code",
   "execution_count": 13,
   "metadata": {},
   "outputs": [],
   "source": [
    "def make_coordinates_table(filename):\n",
    "    with open(filename) as f:\n",
    "        coordinates = [list(map(float, row.split())) for row in f.readlines()]\n",
    "    return coordinates"
   ]
  },
  {
   "cell_type": "code",
   "execution_count": 14,
   "metadata": {},
   "outputs": [],
   "source": [
    "def make_table(coordinates, n_x, n_y, x, y):\n",
    "    if n_x >= len(coordinates) - 1 or n_y >= len(coordinates[0]) - 1:\n",
    "        print(\"Can not do polynomial\")\n",
    "        return LEN_ERROR, LEN_ERROR\n",
    "    x_list = list()\n",
    "    for i in range(1, len(coordinates)):\n",
    "        x_list.append([coordinates[i][0], int(i)])\n",
    "\n",
    "    data_x = np.array(nsmallest(n_x + 1, x_list, key=lambda row: abs(row[0] - x)))\n",
    "    data_x = data_x[data_x[:, 0].argsort()]\n",
    "\n",
    "    y_list = list()\n",
    "    for i in range(1, len(coordinates[0])):\n",
    "        y_list.append([coordinates[0][i], int(i)])\n",
    "\n",
    "    data_y = np.array(nsmallest(n_y + 1, y_list, key=lambda row: abs(row[0] - y)))\n",
    "    data_y = data_y[data_y[:, 0].argsort()]\n",
    "\n",
    "    list_y = list()\n",
    "    matrix = np.zeros((n_x + 1, n_y + 2))\n",
    "\n",
    "    start_x_ind = min(data_x[0][1], data_x[n_x][1])\n",
    "    start_y_ind = min(data_y[0][1], data_y[n_y][1])\n",
    "    stop_x_ind = max(data_x[0][1], data_x[n_x][1])\n",
    "    stop_y_ind = max(data_y[0][1], data_y[n_y][1])\n",
    "\n",
    "    for i in range(int(start_y_ind), int(stop_y_ind) + 1):\n",
    "        list_y.append(coordinates[0][i])\n",
    "\n",
    "    temp_x_ind = int(start_x_ind)\n",
    "    for i_matr in range(len(matrix)):\n",
    "        matrix[i_matr][0] = coordinates[temp_x_ind][0]\n",
    "        j_matr = 1\n",
    "        for j_coord in range(int(start_y_ind), int(stop_y_ind) + 1):\n",
    "            matrix[i_matr][j_matr] = coordinates[temp_x_ind][j_coord]\n",
    "            j_matr += 1\n",
    "        temp_x_ind += 1\n",
    "        if (temp_x_ind > stop_x_ind):\n",
    "            break\n",
    "    return matrix, list_y"
   ]
  },
  {
   "cell_type": "code",
   "execution_count": 15,
   "metadata": {},
   "outputs": [],
   "source": [
    "def fill_table(table, n):\n",
    "    step = 1\n",
    "    temp_column = 2\n",
    "    for count in range(n + 1):\n",
    "        temp_row = 0\n",
    "        while (temp_row + step) != len(table):\n",
    "            table[temp_row][temp_column] = ((table[temp_row][temp_column - 1]\n",
    "                                           - table[temp_row + 1][temp_column - 1]) * 1.0 /\n",
    "                                            (table[temp_row][0] - table[temp_row + step][0]))\n",
    "            temp_row += 1\n",
    "        step += 1\n",
    "        temp_column += 1\n",
    "    return table"
   ]
  },
  {
   "cell_type": "code",
   "execution_count": 16,
   "metadata": {},
   "outputs": [],
   "source": [
    "def get_polynomial(x, table, n):\n",
    "    result = table[0][1]\n",
    "    temp_column = 2\n",
    "    for i in range (n):\n",
    "        term = 1\n",
    "        for j in range (temp_column - 1):\n",
    "            term *= (x - table[j][0])\n",
    "        term *= table[0][temp_column]\n",
    "        result += term\n",
    "        temp_column += 1\n",
    "    return result"
   ]
  },
  {
   "cell_type": "code",
   "execution_count": 17,
   "metadata": {},
   "outputs": [],
   "source": [
    "def newton(x, n, coordinates):\n",
    "    table = np.zeros((n + 1, n))\n",
    "    table = np.append(coordinates, table, axis=1)\n",
    "    fill_table(table, n)\n",
    "    result = get_polynomial(x, table, n)\n",
    "    return result"
   ]
  },
  {
   "cell_type": "code",
   "execution_count": 18,
   "metadata": {},
   "outputs": [],
   "source": [
    "def newton_for_2_args(data_matrix, list_y, x, y, n_x, n_y):\n",
    "    list_result = np.zeros((n_y + 1, 2))\n",
    "    temp_matr = np.zeros((len(data_matrix), 2))\n",
    "\n",
    "    for i in range(len(list_result)):\n",
    "        list_result[i][0] = list_y[i]\n",
    "\n",
    "    for i in range(len(data_matrix)):\n",
    "        temp_matr[i][0] = data_matrix[i][0]\n",
    "\n",
    "    temp_y = 0\n",
    "    while(temp_y < len(list_result)):\n",
    "        for row in range(n_x + 1):\n",
    "            temp_matr[row][1] = data_matrix[row][temp_y+ 1]\n",
    "        list_result[temp_y][1] = newton(x, n_x, temp_matr)\n",
    "        temp_y += 1\n",
    "    result = newton(y, n_y, list_result)\n",
    "    return result"
   ]
  },
  {
   "cell_type": "code",
   "execution_count": 19,
   "metadata": {},
   "outputs": [],
   "source": [
    "def main(x, y, nx, ny):\n",
    "    coordinates = make_coordinates_table(\"lab2.txt\")\n",
    "    data_matrix, list_y = make_table(coordinates, nx, ny, x, y)\n",
    "    if type(data_matrix) == type(LEN_ERROR):\n",
    "        return\n",
    "    result = newton_for_2_args(data_matrix, list_y, x, y, nx, ny)\n",
    "    print(result)"
   ]
  },
  {
   "cell_type": "markdown",
   "metadata": {},
   "source": [
    "# Введите х, y и степени полиномов nx, ny"
   ]
  },
  {
   "cell_type": "code",
   "execution_count": null,
   "metadata": {},
   "outputs": [],
   "source": [
    "coordinates = make_coordinates_table(\"lab2.txt\")\n",
    "for i in coordinates:\n",
    "    print(i)"
   ]
  },
  {
   "cell_type": "code",
   "execution_count": 21,
   "metadata": {},
   "outputs": [
    {
     "name": "stdout",
     "output_type": "stream",
     "text": [
      "48.5\n"
     ]
    }
   ],
   "source": [
    "x = 3.7\n",
    "y = 5.9\n",
    "nx = 3\n",
    "ny = 4\n",
    "main(x, y, nx, ny)"
   ]
  }
 ],
 "metadata": {
  "kernelspec": {
   "display_name": "Python 3",
   "language": "python",
   "name": "python3"
  },
  "language_info": {
   "codemirror_mode": {
    "name": "ipython",
    "version": 3
   },
   "file_extension": ".py",
   "mimetype": "text/x-python",
   "name": "python",
   "nbconvert_exporter": "python",
   "pygments_lexer": "ipython3",
   "version": "3.7.1"
  }
 },
 "nbformat": 4,
 "nbformat_minor": 2
}
