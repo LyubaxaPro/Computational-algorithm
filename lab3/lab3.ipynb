{
 "cells": [
  {
   "cell_type": "markdown",
   "metadata": {},
   "source": [
    "# Интерполяция функции кубическим сплайном"
   ]
  },
  {
   "cell_type": "markdown",
   "metadata": {},
   "source": [
    "## Задание\n",
    "Построить алгоритм и программу кубической сплайн интерполяции."
   ]
  },
  {
   "cell_type": "markdown",
   "metadata": {},
   "source": [
    "Решим СЛАУ\n",
    "\\begin{equation*}\n",
    " \\begin{cases}\n",
    "   С_1 = 0\n",
    "   \\\\\n",
    "   h_{n-1}C_{n-1} + (h_{n-1} + h_n)C_n + h_nC_{n+1} = 3(\\frac{y_n - y_{n-1}}{h_n} - \\frac{y_{n-1} - y_{n-2}}{h_{n-1}})   \n",
    "   \\\\\n",
    "   C_{N+1} = 0\n",
    " \\end{cases}\n",
    "\\end{equation*}\n",
    "2$\\leq$ n  $\\leq$ N"
   ]
  },
  {
   "cell_type": "markdown",
   "metadata": {},
   "source": [
    " Выписанная система уравнений решается методом прогонки, которая состоит из двух этапов.\n",
    " \n",
    " 1 этап - прямой ход, 2 этап - обратный ход "
   ]
  },
  {
   "cell_type": "markdown",
   "metadata": {},
   "source": [
    "(1) $y_n = \\xi_{n+1}y_{n+1} + \\eta_{n+1}$\t"
   ]
  },
  {
   "cell_type": "markdown",
   "metadata": {},
   "source": [
    "(2)  $ \\xi_{n+1} = \\frac{D_n}{B_n - A_n\\xi_n}$\n",
    "\n",
    "$\\eta_{n+1} =\\frac{A_n\\eta_n + F_n}{B_n - A_n\\xi_n}$"
   ]
  },
  {
   "cell_type": "markdown",
   "metadata": {},
   "source": [
    "(3)$  \\xi_1 = \\frac{-M_0}{K_0}y_1$\n",
    "\n",
    "$\\eta_1 = \\frac{P_0}{K_0}$"
   ]
  },
  {
   "cell_type": "markdown",
   "metadata": {},
   "source": [
    "(4)$ y_N = \\frac{P_N - M_N\\eta_n}{K_N + M_N\\xi_n} $"
   ]
  },
  {
   "cell_type": "markdown",
   "metadata": {},
   "source": [
    "# 1 этап\n",
    "Определяюся начальные значения прогоночных коэффициентов по формуле (3)\n",
    "\n",
    "По реккуретным формулам(2) находятся все прогоночные коэффициенты"
   ]
  },
  {
   "cell_type": "markdown",
   "metadata": {},
   "source": [
    " # 2 этап\n",
    " По формуле (4) находим y_N\n",
    " \n",
    " По формуле (1) находим все y_n"
   ]
  },
  {
   "cell_type": "markdown",
   "metadata": {},
   "source": [
    "Начальные условия\n",
    "\n",
    "$ \\xi_2 = 0$\n",
    "\n",
    "$\\eta_2 = 0 $"
   ]
  },
  {
   "cell_type": "code",
   "execution_count": 11,
   "metadata": {},
   "outputs": [],
   "source": [
    "def f(x):\n",
    "    return x * x"
   ]
  },
  {
   "cell_type": "code",
   "execution_count": 12,
   "metadata": {},
   "outputs": [],
   "source": [
    "def get_table(x_beg, step, amount):\n",
    "    x_tbl = [x_beg + step * i for i in range(amount)]\n",
    "    y_tbl = [f(x) for x in x_tbl]\n",
    "    return x_tbl, y_tbl"
   ]
  },
  {
   "cell_type": "code",
   "execution_count": 13,
   "metadata": {},
   "outputs": [],
   "source": [
    "def print_table(x, y):\n",
    "    length = len(x)\n",
    "    for i in range(length):\n",
    "        print(\"%.4f %.4f\" % (x[i], y[i]))\n",
    "    print()"
   ]
  },
  {
   "cell_type": "code",
   "execution_count": 14,
   "metadata": {},
   "outputs": [],
   "source": [
    "def interpolate(x, y, x_value):\n",
    "    n = len(x)\n",
    "    i_near = min(range(n), key=lambda i: abs(x[i] - x_value))  # index of nearest value\n",
    "\n",
    "    h = [0 if not i else x[i] - x[i - 1] for i in range(n)]  # step value\n",
    "\n",
    "    A = [0 if i < 2 else h[i - 1] for i in range(n)]\n",
    "    B = [0 if i < 2 else -2 * (h[i - 1] + h[i]) for i in range(n)]\n",
    "    D = [0 if i < 2 else h[i] for i in range(n)]\n",
    "    F = [0 if i < 2 else -3 * ((y[i] - y[i - 1]) / h[i] - (y[i - 1] -\n",
    "                                                           y[i - 2]) / h[i - 1]) for i in range(n)]\n",
    "\n",
    "    # forward\n",
    "    ksi = [0 for i in range(n + 1)]\n",
    "    eta = [0 for i in range(n + 1)]\n",
    "    for i in range(2, n):\n",
    "        ksi[i + 1] = D[i] / (B[i] - A[i] * ksi[i])\n",
    "        eta[i + 1] = (A[i] * eta[i] + F[i]) / (B[i] - A[i] * ksi[i])\n",
    "\n",
    "    # backward\n",
    "    c = [0 for i in range(n + 1)]\n",
    "    for i in range(n - 2, -1, -1):\n",
    "        c[i] = ksi[i + 1] * c[i + 1] + eta[i + 1]\n",
    "\n",
    "    a = [0 if i < 1 else y[i - 1] for i in range(n)]\n",
    "    b = [0 if i < 1 else (y[i] - y[i - 1]) / h[i] - h[i] / 3 * (c[i + 1] + 2 * c[i]) for i in range(n)]\n",
    "    d = [0 if i < 1 else (c[i + 1] - c[i]) / (3 * h[i]) for i in range(n)]\n",
    "\n",
    "    return a[i_near] + b[i_near] * (x_value - x[i_near - 1]) + c[i_near] *\n",
    "((x_value - x[i_near - 1]) ** 2) + d[\n",
    "        i_near] * ((x_value - x[i_near - 1]) ** 3)"
   ]
  },
  {
   "cell_type": "code",
   "execution_count": null,
   "metadata": {},
   "outputs": [],
   "source": [
    "x_beg = float(input(\"Input beginning value of x: \"))\n",
    "x_step = float(input(\"Input step for x value: \"))\n",
    "x_amount = int(input(\"Input amount of dots: \"))\n",
    "\n",
    "x_tbl, y_tbl = get_table(x_beg, x_step, x_amount)\n",
    "print(\"\\nCreated table:\")\n",
    "print_table(x_tbl, y_tbl)\n",
    "\n",
    "x = float(input(\"Input x: \"))\n",
    "\n",
    "# Results\n",
    "found = interpolate(x_tbl, y_tbl, x)\n",
    "print(\"\\nInterpolated: \", found)\n",
    "print(\"F(x)        : \", f(x))\n",
    "print(\"Error       : \", abs(f(x) - found), \"\\n\")"
   ]
  }
 ],
 "metadata": {
  "kernelspec": {
   "display_name": "Python 3",
   "language": "python",
   "name": "python3"
  },
  "language_info": {
   "codemirror_mode": {
    "name": "ipython",
    "version": 3
   },
   "file_extension": ".py",
   "mimetype": "text/x-python",
   "name": "python",
   "nbconvert_exporter": "python",
   "pygments_lexer": "ipython3",
   "version": "3.7.6"
  }
 },
 "nbformat": 4,
 "nbformat_minor": 4
}
