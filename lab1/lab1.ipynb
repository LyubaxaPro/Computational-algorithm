{
 "cells": [
  {
   "cell_type": "markdown",
   "metadata": {},
   "source": [
    "# Алгоритм и программа построения интерполяционного полинома Ньютона"
   ]
  },
  {
   "cell_type": "markdown",
   "metadata": {},
   "source": [
    "# Задание\n",
    "1. Задана таблица значений функции вида x, y, 𝑓(𝑥, y). С помощью интерполяции, используя\n",
    "метод полинома Ньютона, найти приближённое значение функции Z(X, Y) от введённого 𝑋, Y.\n",
    "Ввод: значение 𝑋 и степень полинома\n",
    "Вывод: значение функции от 𝑋\n",
    "2. Методом обратной интерполяции найти корень функции 𝑓(𝑥) = 0. Также найти корень\n",
    "методом половинного деления."
   ]
  },
  {
   "cell_type": "markdown",
   "metadata": {},
   "source": [
    "# Описание алгоритма\n",
    "Для двух точек: $$y(x_i, x_j) ={ y_i - y_j \\over x_i - x_j}$$"
   ]
  },
  {
   "cell_type": "markdown",
   "metadata": {},
   "source": [
    "Для трёх точек: $$y(x_i, x_j, x_k) ={ y(x_i, x_j) - y(x_j, x_k) \\over x_i - x_k}$$"
   ]
  },
  {
   "cell_type": "markdown",
   "metadata": {},
   "source": [
    "Для n точек: $$y(x_i, x_j, ..., x_n) ={ y(x_i, x_j, ..., x_{n - 1}) - y(x_j, ..., x_n) \\over x_i - x_n}$$"
   ]
  },
  {
   "cell_type": "markdown",
   "metadata": {},
   "source": [
    "Отсюда искомый полином будет равен:\n",
    "$$P_n(x) = y_0 + (x-x_0)y(x_0, x_1) + (x - x_0)(x - x_1)y(x_0, x_1, x_2) + ... \\\\ + (x - x_0)(x - x_1)...(x - x_{n - 1})y(x_0, x_1, ..., x_n)$$\n",
    "$$P_n(x) = y_0 + \\sum\\limits_{k = 0}^n (x - x_0) ...(x - x_{n - 1})y(x_0,x_1,...,x_k)$$"
   ]
  },
  {
   "cell_type": "code",
   "execution_count": 2,
   "metadata": {},
   "outputs": [],
   "source": [
    "import numpy as np\n",
    "import math\n",
    "from heapq import nsmallest"
   ]
  },
  {
   "cell_type": "code",
   "execution_count": 3,
   "metadata": {},
   "outputs": [],
   "source": [
    "LEN_ERROR = 2\n",
    "STEP_ERROR = -10000000\n",
    "BISECTION_ERROR = -100000\n",
    "EPS = 0.0001\n",
    "MAX_STEP = 10000\n",
    "NEWTON_ERROR = -100000"
   ]
  },
  {
   "cell_type": "code",
   "execution_count": 4,
   "metadata": {},
   "outputs": [],
   "source": [
    "def make_coordinates_table(filename):\n",
    "    with open(filename) as f:\n",
    "        coordinates = [list(map(float, row.split())) for row in f.readlines()]\n",
    "    return coordinates"
   ]
  },
  {
   "cell_type": "code",
   "execution_count": 5,
   "metadata": {},
   "outputs": [],
   "source": [
    "def make_back_coordinates_table(coordinates):\n",
    "    back_coordinates = list()\n",
    "    for i in range(len(coordinates)):\n",
    "        back_coordinates.append([coordinates[i][1], coordinates[i][0]])\n",
    "    return back_coordinates"
   ]
  },
  {
   "cell_type": "code",
   "execution_count": 6,
   "metadata": {},
   "outputs": [],
   "source": [
    "def make_table(coordinates, n, x, is_back):\n",
    "    if (n >= len(coordinates)):\n",
    "        print(\"Can not do polynomial\")\n",
    "        return LEN_ERROR\n",
    "    \n",
    "    data = np.array(nsmallest(n + 1, coordinates, key=lambda row: abs(row[is_back] - x)))\n",
    "    data = data[data[:,is_back].argsort()]\n",
    "    matrix = np.zeros((n  + 1, n))\n",
    "\n",
    "    return np.append(data, matrix, axis=1)   "
   ]
  },
  {
   "cell_type": "code",
   "execution_count": 7,
   "metadata": {},
   "outputs": [],
   "source": [
    "def fill_table(table, n):\n",
    "    step = 1 \n",
    "    temp_column = 2\n",
    "    for count in range(n + 1):\n",
    "        temp_row = 0 \n",
    "        while (temp_row + step) != len(table):\n",
    "            table[temp_row][temp_column] = ((table[temp_row][temp_column - 1]\n",
    "                                           - table[temp_row + 1][temp_column - 1]) * 1.0 /\n",
    "                                            (table[temp_row][0] - table[temp_row + step][0]))\n",
    "            temp_row += 1\n",
    "        step += 1\n",
    "        temp_column += 1\n",
    "    return table\n",
    "    "
   ]
  },
  {
   "cell_type": "code",
   "execution_count": 8,
   "metadata": {},
   "outputs": [],
   "source": [
    "def get_polynomial(x, table, n):\n",
    "    result = table[0][1]\n",
    "    temp_column = 2\n",
    "    for i in range (n):\n",
    "        term = 1\n",
    "        for j in range (temp_column - 1):\n",
    "            term *= (x - table[j][0])\n",
    "        term *= table[0][temp_column]\n",
    "        result += term \n",
    "        temp_column += 1\n",
    "    return result    "
   ]
  },
  {
   "cell_type": "code",
   "execution_count": 9,
   "metadata": {},
   "outputs": [],
   "source": [
    "def newton(x, n, coordinates, is_back):\n",
    "    table = make_table(coordinates, n, x, is_back)\n",
    "    if type(table) != type(LEN_ERROR):\n",
    "        fill_table(table, n)\n",
    "        result = get_polynomial(x, table, n)\n",
    "        return result\n",
    "    return NEWTON_ERROR\n",
    "    "
   ]
  },
  {
   "cell_type": "code",
   "execution_count": 10,
   "metadata": {},
   "outputs": [],
   "source": [
    "def find_root_bisection(xa, f_xa, xb, f_xb, n, coordinates):\n",
    "    step = 0\n",
    "    xm = (xa + xb) / 2.0\n",
    "    while (math.fabs(xb - xa) > EPS * xm + EPS * 0.1) and step < MAX_STEP:\n",
    "        xm = (xa + xb) / 2.0\n",
    "        f_xm = newton(xm, n, coordinates, 0)\n",
    "        if f_xm != NEWTON_ERROR:\n",
    "            if f_xa * f_xm <= 0:\n",
    "                xb = xm\n",
    "                f_xb = f_xm\n",
    "            else:\n",
    "                xa = xm\n",
    "                f_xa = f_xm\n",
    "            step += 1\n",
    "        else:\n",
    "            return NEWTON_ERROR\n",
    "    if step >= MAX_STEP:\n",
    "        return STEP_ERROR\n",
    "    return (xa + xb) / 2"
   ]
  },
  {
   "cell_type": "code",
   "execution_count": 11,
   "metadata": {},
   "outputs": [],
   "source": [
    "def main(x, n):\n",
    "    coordinates = make_coordinates_table(\"coordinates.txt\")\n",
    "    back_coordinates = make_back_coordinates_table(coordinates)\n",
    "    \n",
    "    res_newton = newton(x, n, coordinates, 0)\n",
    "    if (res_newton != NEWTON_ERROR):\n",
    "        print(\"Pn(x) =\", res_newton)\n",
    "\n",
    "    res_bisection = find_root_bisection(coordinates[0][0], coordinates[0][1], coordinates[len(coordinates) - 1][0],\n",
    "                                  coordinates[len(coordinates) - 1][1], n, coordinates)\n",
    "    if math.fabs(res_bisection - 0) < 0.0001:\n",
    "        res_bisection = 0.0\n",
    "    if res_bisection != NEWTON_ERROR and res_bisection != STEP_ERROR:\n",
    "        print(\"Root of function by bisection =\", round(res_bisection, 4))\n",
    "    back_res_newton = newton(0, n, back_coordinates, 1)\n",
    "    if (back_res_newton != NEWTON_ERROR):\n",
    "        print(\"Root of function by Newton =\", round(back_res_newton, 4))"
   ]
  },
  {
   "cell_type": "markdown",
   "metadata": {},
   "source": [
    "# Введите х и степень полинома n"
   ]
  },
  {
   "cell_type": "code",
   "execution_count": 12,
   "metadata": {},
   "outputs": [
    {
     "name": "stdout",
     "output_type": "stream",
     "text": [
      "0.0 0.0\n",
      "1.0 1.0\n",
      "2.0 4.0\n",
      "3.0 9.0\n",
      "4.0 16.0\n",
      "5.0 25.0\n",
      "6.0 36.0\n",
      "7.0 49.0\n",
      "8.0 64.0\n",
      "9.0 81.0\n",
      "10.0 100.0\n"
     ]
    }
   ],
   "source": [
    "coordinates = make_coordinates_table(\"coordinates.txt\")\n",
    "for i in coordinates:\n",
    "    print (i[0], i[1])"
   ]
  },
  {
   "cell_type": "code",
   "execution_count": 13,
   "metadata": {},
   "outputs": [
    {
     "name": "stdout",
     "output_type": "stream",
     "text": [
      "Pn(x) = 119.0\n",
      "Root of function by bisection = 0.0\n",
      "Root of function by Newton = 0.0\n"
     ]
    }
   ],
   "source": [
    "x = 11\n",
    "n = 1\n",
    "main(x, n)"
   ]
  }
 ],
 "metadata": {
  "kernelspec": {
   "display_name": "Python 3",
   "language": "python",
   "name": "python3"
  },
  "language_info": {
   "codemirror_mode": {
    "name": "ipython",
    "version": 3
   },
   "file_extension": ".py",
   "mimetype": "text/x-python",
   "name": "python",
   "nbconvert_exporter": "python",
   "pygments_lexer": "ipython3",
   "version": "3.7.1"
  }
 },
 "nbformat": 4,
 "nbformat_minor": 2
}
